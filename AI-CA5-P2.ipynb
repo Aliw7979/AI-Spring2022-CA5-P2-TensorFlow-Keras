{
 "cells": [
  {
   "cell_type": "markdown",
   "metadata": {},
   "source": [
    "<div style=\"direction:rtl;line-height:300%;background-color:#282C34;border-radius: 25px;\">\n",
    "    <img src='https://me.ut.ac.ir/documents/84413608/105534126/%D9%86%D8%B4%D8%A7%D9%86%20%D8%AF%D8%A7%D9%86%D8%B4%DA%AF%D8%A7%D9%87%20%D8%AA%D9%87%D8%B1%D8%A7%D9%86_%D8%AD%D8%A7%D8%B4%DB%8C%D9%87_vectorized2.png?t=1617776323063' alt=\"UT logo\" width=\"110\" height=\"110\" align=\"left\" style='padding-top: 15px; padding-left: 20px;'>\n",
    "    <img src=\"https://engstudent.ut.ac.ir/wp-content/uploads/Fanni-Transparent.png\" width=\"150\" height=\"112\" align=\"right\" style='padding-top: 15px; padding-right: 20px;'>\n",
    "    <font face=\"XB Zar\" size=5>\n",
    "        <div align=center>\n",
    "            <font face=\"IranNastaliq\" size=30 color=white>\n",
    "                <p></p>\n",
    "                <p></p>\n",
    "In the name of God\n",
    "            </font>\n",
    "            <br />\n",
    "            <br />\n",
    "            <font color=#1597E5>\n",
    "University of Tehran            \n",
    "            </font>\n",
    "            <br />\n",
    "            <font color=#69DADB>\n",
    "Artificial Intelligence\n",
    "            </font>\n",
    "            <br />\n",
    "            <font color=#FFA400>\n",
    "Spring 1401\n",
    "        </div>\n",
    "        <hr color=#6ECB63/>\n",
    "        <font color=#FF5C58 size=6>\n",
    "            <div align=center>\n",
    "    CA5 Phase 2 Neural Network\n",
    "            </div>\n",
    "        </font>\n",
    "        <br />\n",
    "        <div align=center>\n",
    "        <font color=yellow>\n",
    "Ali Eftekhari \n",
    "            <br />\n",
    "            SID : 810198549\n",
    "            </font>\n",
    "        </div>\n",
    "        <!hr color=#6ECB63/>\n",
    "        <style type=\"text/css\" scoped>\n",
    "        p{\n",
    "        border: 1px solid #a2a9b1;background-color: black;display: inline-block;\n",
    "        };\n",
    "        </style>            \n",
    "\n",
    "</div>\n",
    "</div>\n",
    "</div>"
   ]
  },
  {
   "cell_type": "code",
   "execution_count": null,
   "metadata": {},
   "outputs": [],
   "source": []
  }
 ],
 "metadata": {
  "kernelspec": {
   "display_name": "Python 3.10.4 64-bit",
   "language": "python",
   "name": "python3"
  },
  "language_info": {
   "codemirror_mode": {
    "name": "ipython",
    "version": 3
   },
   "file_extension": ".py",
   "mimetype": "text/x-python",
   "name": "python",
   "nbconvert_exporter": "python",
   "pygments_lexer": "ipython3",
   "version": "3.10.4"
  },
  "orig_nbformat": 4,
  "vscode": {
   "interpreter": {
    "hash": "916dbcbb3f70747c44a77c7bcd40155683ae19c65e1c03b4aa3499c5328201f1"
   }
  }
 },
 "nbformat": 4,
 "nbformat_minor": 2
}
